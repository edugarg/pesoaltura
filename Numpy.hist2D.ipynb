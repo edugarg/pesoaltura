{
 "cells": [
  {
   "cell_type": "code",
   "execution_count": 57,
   "metadata": {},
   "outputs": [
    {
     "name": "stdout",
     "output_type": "stream",
     "text": [
      "The autoreload extension is already loaded. To reload it, use:\n",
      "  %reload_ext autoreload\n"
     ]
    }
   ],
   "source": [
    "%load_ext autoreload\n",
    "%autoreload 2\n",
    "import numpy as np\n",
    "import pandas as pd\n",
    "from matplotlib import pyplot as plt\n",
    "from sklearn.model_selection import train_test_split\n",
    "# %matplotlib qt para graficos afuera. Por defecto es inline dentro de la notebook\n",
    "\n",
    "df_test = pd.read_csv(\"alturas-pesos-mils-test.csv\")\n",
    "df_train = pd.read_csv(\"alturas-pesos-mils-train.csv\")\n",
    "df_train.drop(columns=[\"Unnamed: 0\"],inplace=True)\n",
    "df_test.drop(columns=[\"Unnamed: 0\"],inplace=True)"
   ]
  },
  {
   "cell_type": "code",
   "execution_count": 3,
   "metadata": {},
   "outputs": [],
   "source": [
    "df_train2, df_valid = train_test_split(df_train, test_size=0.30)"
   ]
  },
  {
   "cell_type": "code",
   "execution_count": 4,
   "metadata": {},
   "outputs": [
    {
     "name": "stdout",
     "output_type": "stream",
     "text": [
      "<class 'pandas.core.frame.DataFrame'>\n",
      "RangeIndex: 8000 entries, 0 to 7999\n",
      "Data columns (total 3 columns):\n",
      "Genero    8000 non-null object\n",
      "Peso      8000 non-null float64\n",
      "Altura    8000 non-null float64\n",
      "dtypes: float64(2), object(1)\n",
      "memory usage: 187.6+ KB\n"
     ]
    }
   ],
   "source": [
    "df_train.info()"
   ]
  },
  {
   "cell_type": "code",
   "execution_count": 7,
   "metadata": {},
   "outputs": [
    {
     "data": {
      "text/plain": [
       "5600"
      ]
     },
     "execution_count": 7,
     "metadata": {},
     "output_type": "execute_result"
    }
   ],
   "source": [
    "len(df_train2)"
   ]
  },
  {
   "cell_type": "code",
   "execution_count": 5,
   "metadata": {},
   "outputs": [
    {
     "data": {
      "text/html": [
       "<div>\n",
       "<style scoped>\n",
       "    .dataframe tbody tr th:only-of-type {\n",
       "        vertical-align: middle;\n",
       "    }\n",
       "\n",
       "    .dataframe tbody tr th {\n",
       "        vertical-align: top;\n",
       "    }\n",
       "\n",
       "    .dataframe thead th {\n",
       "        text-align: right;\n",
       "    }\n",
       "</style>\n",
       "<table border=\"1\" class=\"dataframe\">\n",
       "  <thead>\n",
       "    <tr style=\"text-align: right;\">\n",
       "      <th></th>\n",
       "      <th>Peso</th>\n",
       "      <th>Altura</th>\n",
       "    </tr>\n",
       "  </thead>\n",
       "  <tbody>\n",
       "    <tr>\n",
       "      <td>count</td>\n",
       "      <td>2808.000000</td>\n",
       "      <td>2808.000000</td>\n",
       "    </tr>\n",
       "    <tr>\n",
       "      <td>mean</td>\n",
       "      <td>61.194073</td>\n",
       "      <td>161.290042</td>\n",
       "    </tr>\n",
       "    <tr>\n",
       "      <td>std</td>\n",
       "      <td>8.594072</td>\n",
       "      <td>6.830923</td>\n",
       "    </tr>\n",
       "    <tr>\n",
       "      <td>min</td>\n",
       "      <td>31.783000</td>\n",
       "      <td>138.866000</td>\n",
       "    </tr>\n",
       "    <tr>\n",
       "      <td>25%</td>\n",
       "      <td>55.416000</td>\n",
       "      <td>156.699750</td>\n",
       "    </tr>\n",
       "    <tr>\n",
       "      <td>50%</td>\n",
       "      <td>61.232500</td>\n",
       "      <td>161.320500</td>\n",
       "    </tr>\n",
       "    <tr>\n",
       "      <td>75%</td>\n",
       "      <td>66.933000</td>\n",
       "      <td>165.876250</td>\n",
       "    </tr>\n",
       "    <tr>\n",
       "      <td>max</td>\n",
       "      <td>91.056000</td>\n",
       "      <td>186.469000</td>\n",
       "    </tr>\n",
       "  </tbody>\n",
       "</table>\n",
       "</div>"
      ],
      "text/plain": [
       "              Peso       Altura\n",
       "count  2808.000000  2808.000000\n",
       "mean     61.194073   161.290042\n",
       "std       8.594072     6.830923\n",
       "min      31.783000   138.866000\n",
       "25%      55.416000   156.699750\n",
       "50%      61.232500   161.320500\n",
       "75%      66.933000   165.876250\n",
       "max      91.056000   186.469000"
      ]
     },
     "execution_count": 5,
     "metadata": {},
     "output_type": "execute_result"
    }
   ],
   "source": [
    "df_train2[df_train2[\"Genero\"]==\"Mujer\"].describe()"
   ]
  },
  {
   "cell_type": "code",
   "execution_count": 6,
   "metadata": {},
   "outputs": [
    {
     "data": {
      "text/html": [
       "<div>\n",
       "<style scoped>\n",
       "    .dataframe tbody tr th:only-of-type {\n",
       "        vertical-align: middle;\n",
       "    }\n",
       "\n",
       "    .dataframe tbody tr th {\n",
       "        vertical-align: top;\n",
       "    }\n",
       "\n",
       "    .dataframe thead th {\n",
       "        text-align: right;\n",
       "    }\n",
       "</style>\n",
       "<table border=\"1\" class=\"dataframe\">\n",
       "  <thead>\n",
       "    <tr style=\"text-align: right;\">\n",
       "      <th></th>\n",
       "      <th>Peso</th>\n",
       "      <th>Altura</th>\n",
       "    </tr>\n",
       "  </thead>\n",
       "  <tbody>\n",
       "    <tr>\n",
       "      <td>count</td>\n",
       "      <td>2792.000000</td>\n",
       "      <td>2792.000000</td>\n",
       "    </tr>\n",
       "    <tr>\n",
       "      <td>mean</td>\n",
       "      <td>84.462753</td>\n",
       "      <td>174.920977</td>\n",
       "    </tr>\n",
       "    <tr>\n",
       "      <td>std</td>\n",
       "      <td>8.848514</td>\n",
       "      <td>7.205591</td>\n",
       "    </tr>\n",
       "    <tr>\n",
       "      <td>min</td>\n",
       "      <td>50.694000</td>\n",
       "      <td>147.908000</td>\n",
       "    </tr>\n",
       "    <tr>\n",
       "      <td>25%</td>\n",
       "      <td>78.430500</td>\n",
       "      <td>170.268000</td>\n",
       "    </tr>\n",
       "    <tr>\n",
       "      <td>50%</td>\n",
       "      <td>84.541500</td>\n",
       "      <td>174.993500</td>\n",
       "    </tr>\n",
       "    <tr>\n",
       "      <td>75%</td>\n",
       "      <td>90.466500</td>\n",
       "      <td>179.938000</td>\n",
       "    </tr>\n",
       "    <tr>\n",
       "      <td>max</td>\n",
       "      <td>121.687000</td>\n",
       "      <td>199.824000</td>\n",
       "    </tr>\n",
       "  </tbody>\n",
       "</table>\n",
       "</div>"
      ],
      "text/plain": [
       "              Peso       Altura\n",
       "count  2792.000000  2792.000000\n",
       "mean     84.462753   174.920977\n",
       "std       8.848514     7.205591\n",
       "min      50.694000   147.908000\n",
       "25%      78.430500   170.268000\n",
       "50%      84.541500   174.993500\n",
       "75%      90.466500   179.938000\n",
       "max     121.687000   199.824000"
      ]
     },
     "execution_count": 6,
     "metadata": {},
     "output_type": "execute_result"
    }
   ],
   "source": [
    "df_train2[df_train2[\"Genero\"]==\"Hombre\"].describe()"
   ]
  },
  {
   "cell_type": "code",
   "execution_count": 86,
   "metadata": {},
   "outputs": [],
   "source": [
    "#np.histogram2d(df_train2[df_train2[\"Genero\"]==\"Mujer\"][\"Peso\"].to_numpy(),\n",
    "#               df_train2[df_train2[\"Genero\"]==\"Mujer\"][\"Altura\"].to_numpy(),\n",
    "#              bins=30)\n",
    "\n",
    "def eval_model(df_train, df_valid, pbins, abins):\n",
    "    x = df_train[df_train[\"Genero\"]==\"Mujer\"][\"Peso\"].to_numpy()\n",
    "    y = df_train[df_train[\"Genero\"]==\"Mujer\"][\"Altura\"].to_numpy()\n",
    "    histo_m = np.histogram2d(x, y, bins=[pbins,abins])\n",
    "    x = df_train[df_train[\"Genero\"]==\"Hombre\"][\"Peso\"].to_numpy()\n",
    "    y = df_train[df_train[\"Genero\"]==\"Hombre\"][\"Altura\"].to_numpy()\n",
    "    histo_h = np.histogram2d(x, y, bins=[pbins,abins])\n",
    "                     #range=[[df_train[\"Peso\"].min(),df_train[\"Peso\"].max()],\n",
    "                     #      [df_train[\"Altura\"].min(),df_train[\"Altura\"].max()]])\n",
    "    arWeight_m = np.digitize(df_valid[\"Peso\"].values,histo_m[1])-1\n",
    "    arWeight_m[arWeight_m==-1]=0\n",
    "    arWeight_m[arWeight_m>=pbins]=pbins-1\n",
    "\n",
    "    arHeight_m = np.digitize(df_valid[\"Altura\"].values,histo_m[2])-1\n",
    "    arHeight_m[arHeight_m==-1]=0\n",
    "    arHeight_m[arHeight_m>=abins]=abins-1\n",
    "\n",
    "    arWeight_h = np.digitize(df_valid[\"Peso\"].values,histo_h[1])-1\n",
    "    arWeight_h[arWeight_h==-1]=0\n",
    "    arWeight_h[arWeight_h>=pbins]=pbins-1\n",
    "\n",
    "    arHeight_h = np.digitize(df_valid[\"Altura\"].values,histo_h[2])-1\n",
    "    arHeight_h[arHeight_h==-1]=0\n",
    "    arHeight_h[arHeight_h>=abins]=abins-1\n",
    "    \n",
    "    pred = histo_m[0][list(arWeight_m),list(arHeight_m)] > histo_h[0][list(arWeight_h),list(arHeight_h)]\n",
    "    \n",
    "    pred = pred == (df_valid[\"Genero\"]==\"Mujer\")\n",
    "    \n",
    "    return sum(pred)/len(pred)"
   ]
  },
  {
   "cell_type": "code",
   "execution_count": 87,
   "metadata": {},
   "outputs": [
    {
     "name": "stdout",
     "output_type": "stream",
     "text": [
      "bins=[69,69] accuracy= 0.9058333333333334\n"
     ]
    }
   ],
   "source": [
    "print(\"bins=[{},{}] accuracy= {}\".format(i,j,eval_model(df_train2,df_valid,23,23)))"
   ]
  },
  {
   "cell_type": "code",
   "execution_count": 91,
   "metadata": {},
   "outputs": [
    {
     "name": "stdout",
     "output_type": "stream",
     "text": [
      "CPU times: user 56.1 s, sys: 15.7 ms, total: 56.1 s\n",
      "Wall time: 56.1 s\n"
     ]
    }
   ],
   "source": [
    "%%time\n",
    "#df = pd.DataFrame(columns=[{'pbin'},{'abin'},{'accur'}])\n",
    "\n",
    "acc = 0\n",
    "for i in range(1,70):\n",
    "    for j in range(1,70):\n",
    "        acc_aux = eval_model(df_train2,df_valid,i,j)\n",
    "        if acc_aux> acc:\n",
    "            acc = acc_aux\n",
    "            best_binp = i\n",
    "            best_bina = j\n",
    "        "
   ]
  },
  {
   "cell_type": "code",
   "execution_count": 92,
   "metadata": {},
   "outputs": [
    {
     "name": "stdout",
     "output_type": "stream",
     "text": [
      "26 18 0.9108333333333334\n"
     ]
    }
   ],
   "source": [
    "print(best_binp,best_bina,acc)"
   ]
  },
  {
   "cell_type": "code",
   "execution_count": null,
   "metadata": {},
   "outputs": [],
   "source": []
  }
 ],
 "metadata": {
  "kernelspec": {
   "display_name": "Python 3.7.4 (curso_PAE)",
   "language": "python",
   "name": "curso_pae"
  },
  "language_info": {
   "codemirror_mode": {
    "name": "ipython",
    "version": 3
   },
   "file_extension": ".py",
   "mimetype": "text/x-python",
   "name": "python",
   "nbconvert_exporter": "python",
   "pygments_lexer": "ipython3",
   "version": "3.7.4"
  }
 },
 "nbformat": 4,
 "nbformat_minor": 2
}
